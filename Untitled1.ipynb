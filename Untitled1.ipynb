{
 "cells": [
  {
   "cell_type": "code",
   "execution_count": 17,
   "metadata": {},
   "outputs": [],
   "source": [
    "import gspread\n",
    "from oauth2client.service_account import ServiceAccountCredentials\n",
    "import finnhub\n",
    "import matplotlib.pyplot as plt\n",
    "import numpy as np\n",
    "import seaborn as sns\n",
    "from pytz import timezone\n",
    "from datetime import datetime\n",
    "from datetime import timedelta\n",
    "import time\n",
    "import sys"
   ]
  },
  {
   "cell_type": "code",
   "execution_count": 20,
   "metadata": {},
   "outputs": [],
   "source": [
    "# Setup client\n",
    "finnhub_client = finnhub.Client(api_key=\"c0o9qlv48v6qah6s2b00\")\n",
    "\n",
    "def reset_client():\n",
    "    global finnhub_client \n",
    "    finnhub_client = finnhub.Client(api_key=\"c0o9qlv48v6qah6s2b00\")"
   ]
  },
  {
   "cell_type": "code",
   "execution_count": 21,
   "metadata": {},
   "outputs": [],
   "source": [
    "def maybe_run(func, *args, **kwargs):\n",
    "    \n",
    "    # try max 10 times\n",
    "    for attempt in range(10):\n",
    "        try:\n",
    "            # run the function\n",
    "            res = func(*args, **kwargs)\n",
    "        except:\n",
    "            # wait a minute, refresh the client and try again\n",
    "            print(\"Unexpected error:\", sys.exc_info()[0])\n",
    "            time.sleep(60)\n",
    "            reset_client()\n",
    "        else:\n",
    "            # break on success\n",
    "            break\n",
    "    \n",
    "    # all attempts failed\n",
    "    else:\n",
    "        return None\n",
    "    \n",
    "    return res"
   ]
  },
  {
   "cell_type": "code",
   "execution_count": 28,
   "metadata": {},
   "outputs": [],
   "source": [
    "# use creds to create a client to interact with the Google Drive API\n",
    "scope = ['https://www.googleapis.com/auth/drive']\n",
    "creds = ServiceAccountCredentials.from_json_keyfile_name('secret.json', scope)\n",
    "client = gspread.authorize(creds)\n",
    "\n",
    "# Find a workbook by name and open the first sheet\n",
    "# Make sure you use the right name here.\n",
    "sheet = client.open(\"investment portfolio\").sheet1"
   ]
  },
  {
   "cell_type": "code",
   "execution_count": 34,
   "metadata": {},
   "outputs": [],
   "source": [
    "rows = sheet.get_all_values()\n",
    "\n",
    "for i in range(len(rows)):\n",
    "    row = rows[i]\n",
    "    if row[0].isupper() and row[0][0] != 'V' and len(row[0]) != 5:\n",
    "        res = maybe_run(finnhub_client.quote, row)\n",
    "        if not res:\n",
    "            continue\n",
    "\n",
    "        close = res['c']\n",
    "        sheet.update_cell(i + 1, 5, '$' + str(close))"
   ]
  },
  {
   "cell_type": "code",
   "execution_count": 32,
   "metadata": {},
   "outputs": [
    {
     "name": "stdout",
     "output_type": "stream",
     "text": [
      "{'c': 0, 'h': 0, 'l': 0, 'o': 0, 'pc': 0, 't': 0}\n"
     ]
    }
   ],
   "source": [
    "res = maybe_run(finnhub_client.quote, 'VGENX')\n",
    "print(res)"
   ]
  },
  {
   "cell_type": "code",
   "execution_count": null,
   "metadata": {},
   "outputs": [],
   "source": []
  }
 ],
 "metadata": {
  "kernelspec": {
   "display_name": "Python 3",
   "language": "python",
   "name": "python3"
  },
  "language_info": {
   "codemirror_mode": {
    "name": "ipython",
    "version": 3
   },
   "file_extension": ".py",
   "mimetype": "text/x-python",
   "name": "python",
   "nbconvert_exporter": "python",
   "pygments_lexer": "ipython3",
   "version": "3.7.7"
  }
 },
 "nbformat": 4,
 "nbformat_minor": 4
}
